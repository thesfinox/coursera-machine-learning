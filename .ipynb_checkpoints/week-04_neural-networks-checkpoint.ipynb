{
 "cells": [
  {
   "cell_type": "markdown",
   "metadata": {},
   "source": [
    "# Machine Learning\n",
    "_(by Standford University)_\n",
    "\n",
    "**WEEK 4**\n",
    "\n",
    "Course of introduction to machine learning offered by Standford University on [Coursera.org](https://www.coursera.org/learn/machine-learning). These are **notes** and **comments** based on lectures and assignments.\n",
    "\n",
    "The IPython kernel of choice is *Octave* since many exercises and assignments have been devised for that language."
   ]
  },
  {
   "cell_type": "markdown",
   "metadata": {},
   "source": [
    "# Neural Networks\n",
    "\n",
    "- useful to learn **non linear** hypothesis,\n",
    "- adding many features to learn non linear hypothesis can in general lead to overfitting, while **neural networks** can work with less,\n",
    "- the idea is a computational unit which takes inputs (**neurons**, including the _bias neuron_) and computes a value through its **activation function**,\n",
    "- several layers of these units can be connected forming a network,\n",
    "- a neural network is parametrized by its **weights**,\n",
    "- the output of each layer becomes the input of the following, thus the network builds several layers of activations,\n",
    "- the matrix of weights from a $n$-dimensional layer $j$ to a $m$-dimensional layer $j+1$ is $\\Theta^{(j)}_{ab}$ where $a = 1, 2, \\dots, m$ and $b = 1, 2, \\dots, n$. Therefore $\\Theta^{(j)} \\in \\mathrm{M}^{m \\times n}(\\mathbb{R})$,\n",
    "- the computation of activations layer after layer is also called **forward propagation**,\n",
    "- the neural network is basically learning successive layers of information which has been previously calculated by the network itself.\n",
    "\n",
    "## Weights\n",
    "\n",
    "- one way to \"negate\" one input is to use negative, larger than bisas weights (for logistic activation function),\n",
    "- we can output more than just one unit to perform one-vs-all classification."
   ]
  },
  {
   "cell_type": "code",
   "execution_count": null,
   "metadata": {},
   "outputs": [],
   "source": []
  }
 ],
 "metadata": {
  "kernelspec": {
   "display_name": "Octave",
   "language": "octave",
   "name": "octave"
  },
  "language_info": {
   "file_extension": ".m",
   "help_links": [
    {
     "text": "GNU Octave",
     "url": "https://www.gnu.org/software/octave/support.html"
    },
    {
     "text": "Octave Kernel",
     "url": "https://github.com/Calysto/octave_kernel"
    },
    {
     "text": "MetaKernel Magics",
     "url": "https://metakernel.readthedocs.io/en/latest/source/README.html"
    }
   ],
   "mimetype": "text/x-octave",
   "name": "octave",
   "version": "5.2.0"
  }
 },
 "nbformat": 4,
 "nbformat_minor": 4
}
