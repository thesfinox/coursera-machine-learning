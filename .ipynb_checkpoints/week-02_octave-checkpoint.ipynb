{
 "cells": [
  {
   "cell_type": "markdown",
   "metadata": {},
   "source": [
    "# Machine Learning\n",
    "_(by Standford University)_\n",
    "\n",
    "**WEEK 2**\n",
    "\n",
    "Course of introduction to machine learning offered by Standford University on [Coursera.org](https://www.coursera.org/learn/machine-learning). These are **notes** and **comments** based on lectures and assignments.\n",
    "\n",
    "The IPython kernel of choice is *Octave* since many exercises and assignments have been devised for that language."
   ]
  },
  {
   "cell_type": "markdown",
   "metadata": {},
   "source": [
    "# Octave\n",
    "\n",
    "In order to proceed with exercises and practice sessions, we use _Octave_ as prototyping language.\n",
    "\n",
    "This is just a list of interesting commands."
   ]
  },
  {
   "cell_type": "markdown",
   "metadata": {},
   "source": [
    "## I/O Manipulation"
   ]
  },
  {
   "cell_type": "code",
   "execution_count": 5,
   "metadata": {},
   "outputs": [
    {
     "name": "stdout",
     "output_type": "stream",
     "text": [
      "o = hello\n"
     ]
    }
   ],
   "source": [
    "% semicolon supresses the output\n",
    "o = 'hello'\n",
    "O = 'hello';"
   ]
  },
  {
   "cell_type": "code",
   "execution_count": 6,
   "metadata": {},
   "outputs": [
    {
     "name": "stdout",
     "output_type": "stream",
     "text": [
      "hello\n",
      "1 / 6 = 0.167\n"
     ]
    }
   ],
   "source": [
    "% print strings and assignments\n",
    "disp(o)\n",
    "disp(sprintf('1 / 6 = %.3f', 1 / 6)) % use C syntax for sprintf"
   ]
  },
  {
   "cell_type": "markdown",
   "metadata": {},
   "source": [
    "## Logical Operations"
   ]
  },
  {
   "cell_type": "code",
   "execution_count": 7,
   "metadata": {},
   "outputs": [
    {
     "name": "stdout",
     "output_type": "stream",
     "text": [
      "ans = 0\n",
      "ans = 1\n",
      "ans = 0\n",
      "ans = 1\n",
      "ans = 1\n",
      "c = 1\n"
     ]
    }
   ],
   "source": [
    "% basic logical operations\n",
    "1 == 2   % \"equal to?\"\n",
    "1 ~= 2   % \"not equal to?\"\n",
    "1 && 0   % AND\n",
    "1 || 0   % OR\n",
    "xor(1,0) % XOR\n",
    "\n",
    "% assign logic values\n",
    "c = (3 >= 1)"
   ]
  },
  {
   "cell_type": "markdown",
   "metadata": {},
   "source": [
    "## Increments and Variable LinSpaces"
   ]
  },
  {
   "cell_type": "code",
   "execution_count": 8,
   "metadata": {},
   "outputs": [
    {
     "name": "stdout",
     "output_type": "stream",
     "text": [
      "v =\n",
      "\n",
      "    1.0000    1.3300    1.6600    1.9900\n",
      "\n",
      "w =\n",
      "\n",
      "   1.0000   1.3333   1.6667   2.0000\n",
      "\n"
     ]
    }
   ],
   "source": [
    "% get increments\n",
    "v = 1:0.33:2\n",
    "w = linspace(1, 2, 4)"
   ]
  },
  {
   "cell_type": "markdown",
   "metadata": {},
   "source": [
    "## Matrix Operations"
   ]
  },
  {
   "cell_type": "code",
   "execution_count": 9,
   "metadata": {
    "scrolled": true
   },
   "outputs": [
    {
     "name": "stdout",
     "output_type": "stream",
     "text": [
      "ans =\n",
      "\n",
      "   1   1   1\n",
      "   1   1   1\n",
      "\n",
      "ans =\n",
      "\n",
      "   0   0\n",
      "   0   0\n",
      "   0   0\n",
      "\n",
      "ans =\n",
      "\n",
      "Diagonal Matrix\n",
      "\n",
      "   1   0   0\n",
      "   0   1   0\n",
      "   0   0   1\n",
      "\n",
      "ans =\n",
      "\n",
      "   0.241283   0.349203   0.896313\n",
      "   0.525755   0.649776   0.990869\n",
      "   0.152318   0.686587   0.039881\n",
      "\n",
      "ans =\n",
      "\n",
      "  -0.96012   0.19855  -0.86211\n",
      "  -0.35130   0.57364  -0.61386\n",
      "  -0.65544  -0.97371   0.64460\n",
      "\n",
      "rows =  3\n",
      "cols =  2\n"
     ]
    }
   ],
   "source": [
    "% create matrices\n",
    "ones(2, 3)\n",
    "zeros(3, 2)\n",
    "eye(3)\n",
    "rand(3, 3)  % uniformly distributed [0, 1]\n",
    "randn(3, 3) % gaussian distributed [0, 1]\n",
    "\n",
    "% get sizes\n",
    "[ rows, cols ] = size(rand(3, 2))"
   ]
  },
  {
   "cell_type": "code",
   "execution_count": 10,
   "metadata": {
    "scrolled": true
   },
   "outputs": [
    {
     "name": "stdout",
     "output_type": "stream",
     "text": [
      "A =\n",
      "\n",
      "   0.66831   0.75202   0.67916\n",
      "   0.36349   0.54978   0.90965\n",
      "   0.37335   0.80130   0.51359\n",
      "\n",
      "B =\n",
      "\n",
      "   0.082537   0.106051   0.837521\n",
      "   0.710474   0.129456   0.303928\n",
      "   0.363361   0.364546   0.965231\n",
      "\n",
      "ans =\n",
      "\n",
      "   0.83623   0.41582   1.44383\n",
      "   0.75114   0.44133   1.34955\n",
      "   0.78673   0.33055   1.05196\n",
      "\n",
      "ans =\n",
      "\n",
      "   0.055160   0.079753   0.568814\n",
      "   0.258253   0.071173   0.276469\n",
      "   0.135660   0.292109   0.495737\n",
      "\n",
      "ans =\n",
      "\n",
      "   8.09712   7.09116   0.81092\n",
      "   0.51162   4.24688   2.99298\n",
      "   1.02749   2.19806   0.53209\n",
      "\n",
      "ans =\n",
      "\n",
      "   0.44664   0.56554   0.46126\n",
      "   0.13213   0.30226   0.82746\n",
      "   0.13939   0.64207   0.26378\n",
      "\n",
      "ans =\n",
      "\n",
      "   0.0068123   0.0112468   0.7014410\n",
      "   0.5047731   0.0167588   0.0923725\n",
      "   0.1320310   0.1328939   0.9316716\n",
      "\n"
     ]
    }
   ],
   "source": [
    "% element-wise operations are written with '.'\n",
    "A = rand(3, 3)\n",
    "B = rand(3, 3)\n",
    "\n",
    "A * B\n",
    "A .* B\n",
    "A ./ B\n",
    "A .^ 2\n",
    "B .^ 2"
   ]
  },
  {
   "cell_type": "code",
   "execution_count": 11,
   "metadata": {
    "scrolled": true
   },
   "outputs": [
    {
     "name": "stdout",
     "output_type": "stream",
     "text": [
      "val =\n",
      "\n",
      "   0.66831   0.80130   0.90965\n",
      "\n",
      "pos =\n",
      "\n",
      "   1   3   2\n",
      "\n",
      "row =\n",
      "\n",
      "   1\n",
      "   1\n",
      "   2\n",
      "   3\n",
      "   1\n",
      "   2\n",
      "   3\n",
      "\n",
      "col =\n",
      "\n",
      "   1\n",
      "   2\n",
      "   2\n",
      "   2\n",
      "   3\n",
      "   3\n",
      "   3\n",
      "\n"
     ]
    }
   ],
   "source": [
    "% find maximum of a matrix/vector\n",
    "[ val, pos ] = max(A) % list maximum of each column and its position\n",
    "\n",
    "% find values given a criterion\n",
    "[ row, col ] = find(A >= 0.4)"
   ]
  },
  {
   "cell_type": "markdown",
   "metadata": {},
   "source": [
    "## Navigation and Command Line"
   ]
  },
  {
   "cell_type": "code",
   "execution_count": 11,
   "metadata": {},
   "outputs": [
    {
     "name": "stdout",
     "output_type": "stream",
     "text": [
      "ans = /home/riccardo/docs/courses/coursera_machine-learning\n",
      "exercises  week-01_introduction.ipynb\tweek-02_octave.ipynb\n",
      "tmp\t   week-02_multi-feature.ipynb\n",
      "ans = /home/riccardo/docs/courses/coursera_machine-learning/tmp\n",
      "column-vector.dat  features_tmp.dat  labels_tmp.dat  sin-cos.png  v.dat\n"
     ]
    }
   ],
   "source": [
    "% we can use pwd, ls, cd commands from the Octave prompt\n",
    "pwd\n",
    "ls\n",
    "cd '/home/riccardo/docs/courses/coursera_machine-learning/tmp'\n",
    "pwd\n",
    "ls"
   ]
  },
  {
   "cell_type": "code",
   "execution_count": 12,
   "metadata": {},
   "outputs": [
    {
     "name": "stdout",
     "output_type": "stream",
     "text": [
      "features_tmp =\n",
      "\n",
      "   1000    123\n",
      "   2000    432\n",
      "   3000    543\n",
      "   1231    453\n",
      "   2131    766\n",
      "\n",
      "labels_tmp =\n",
      "\n",
      "   12\n",
      "   32\n",
      "   43\n",
      "   23\n",
      "   12\n",
      "\n"
     ]
    }
   ],
   "source": [
    "% load data files\n",
    "cd '/home/riccardo/docs/courses/coursera_machine-learning/tmp'\n",
    "load 'features_tmp.dat'\n",
    "load 'labels_tmp.dat'\n",
    "features_tmp\n",
    "labels_tmp\n",
    "\n",
    "% use `clear VAR` to delete the variable"
   ]
  },
  {
   "cell_type": "code",
   "execution_count": 13,
   "metadata": {},
   "outputs": [
    {
     "name": "stdout",
     "output_type": "stream",
     "text": [
      "Variables in the current scope:\n",
      "\n",
      "   Attr Name              Size                     Bytes  Class\n",
      "   ==== ====              ====                     =====  ===== \n",
      "        O                 1x5                          5  char\n",
      "        ans               1x57                        57  char\n",
      "        c                 1x1                          1  logical\n",
      "        cols              1x1                          8  double\n",
      "        features_tmp      5x2                         80  double\n",
      "        labels_tmp        5x1                         40  double\n",
      "        o                 1x5                          5  char\n",
      "        rows              1x1                          8  double\n",
      "        v                 1x4                         24  double\n",
      "        w                 1x4                         32  double\n",
      "\n",
      "Total is 93 elements using 260 bytes\n",
      "\n"
     ]
    }
   ],
   "source": [
    "% use who (or whos) to get info on the variables\n",
    "whos"
   ]
  },
  {
   "cell_type": "code",
   "execution_count": 14,
   "metadata": {},
   "outputs": [
    {
     "name": "stdout",
     "output_type": "stream",
     "text": [
      "v =\n",
      "\n",
      "   1.0000\n",
      "   1.1000\n",
      "   1.2000\n",
      "   1.3000\n",
      "   1.4000\n",
      "   1.5000\n",
      "   1.6000\n",
      "   1.7000\n",
      "   1.8000\n",
      "   1.9000\n",
      "   2.0000\n",
      "\n"
     ]
    }
   ],
   "source": [
    "% save variables to file\n",
    "cd '/home/riccardo/docs/courses/coursera_machine-learning/tmp'\n",
    "\n",
    "v = 1:0.1:2;\n",
    "v = v';\n",
    "save './column-vector.dat' v\n",
    "clear v\n",
    "load './column-vector.dat' v\n",
    "v\n",
    "\n",
    "% vectors and matrices can be sliced using ':' as in Python"
   ]
  },
  {
   "cell_type": "markdown",
   "metadata": {},
   "source": [
    "## Plotting and Visualisation"
   ]
  },
  {
   "cell_type": "code",
   "execution_count": 16,
   "metadata": {},
   "outputs": [
    {
     "name": "stdout",
     "output_type": "stream",
     "text": [
      "DEBUG: FC_WEIGHT didn't match\n"
     ]
    },
    {
     "data": {
      "image/png": "[encoded data removed]",
      "text/plain": [
       "<IPython.core.display.Image object>"
      ]
     },
     "metadata": {},
     "output_type": "display_data"
    }
   ],
   "source": [
    "% plot data\n",
    "t = 0.0:0.1:2*pi;\n",
    "\n",
    "plot(t, sin(t), 'r--')\n",
    "hold on\n",
    "plot(t, cos(t), 'b-')\n",
    "\n",
    "xlabel('time')\n",
    "ylabel('values')\n",
    "title('first plot')\n",
    "\n",
    "cd '/home/riccardo/docs/courses/coursera_machine-learning/tmp'\n",
    "print -dpng './sin-cos.png';"
   ]
  },
  {
   "cell_type": "code",
   "execution_count": 17,
   "metadata": {},
   "outputs": [
    {
     "data": {
      "image/png": "[encoded data removed]",
      "text/plain": [
       "<IPython.core.display.Image object>"
      ]
     },
     "metadata": {},
     "output_type": "display_data"
    },
    {
     "data": {
      "image/png": "[encoded data removed]",
      "text/plain": [
       "<IPython.core.display.Image object>"
      ]
     },
     "metadata": {},
     "output_type": "display_data"
    }
   ],
   "source": [
    "% we can keep the figures separately\n",
    "figure(1); plot(t, sin(t))\n",
    "figure(2); plot(t, cos(t))"
   ]
  },
  {
   "cell_type": "code",
   "execution_count": 21,
   "metadata": {},
   "outputs": [
    {
     "data": {
      "image/png": "[encoded data removed]",
      "text/plain": [
       "<IPython.core.display.Image object>"
      ]
     },
     "metadata": {},
     "output_type": "display_data"
    }
   ],
   "source": [
    "% or divide into sublots\n",
    "A = magic(20);\n",
    "B = magic(20);\n",
    "\n",
    "subplot(1, 2, 1)\n",
    "imagesc(A), colorbar, colormap gray\n",
    "subplot(1, 2, 2)\n",
    "imagesc(B), colorbar, colormap gray"
   ]
  },
  {
   "cell_type": "code",
   "execution_count": 27,
   "metadata": {},
   "outputs": [
    {
     "data": {
      "image/png": "[encoded data removed]",
      "text/plain": [
       "<IPython.core.display.Image object>"
      ]
     },
     "metadata": {},
     "output_type": "display_data"
    }
   ],
   "source": [
    "% or we can stack different plots\n",
    "r = rand(1, 100);\n",
    "t = 0:0.01:1;\n",
    "\n",
    "hist(r, 'facecolor', 'b', 'edgecolor', 'w')\n",
    "hold on\n",
    "plot(t, 10 * sin(2*pi*t) .^ 2, 'r-')\n",
    "legend('hist', 'sin^2(2 \\pi t)', 'location', 'northeastoutside')"
   ]
  },
  {
   "cell_type": "code",
   "execution_count": null,
   "metadata": {},
   "outputs": [],
   "source": []
  }
 ],
 "metadata": {
  "kernelspec": {
   "display_name": "Octave",
   "language": "octave",
   "name": "octave"
  },
  "language_info": {
   "file_extension": ".m",
   "help_links": [
    {
     "text": "GNU Octave",
     "url": "https://www.gnu.org/software/octave/support.html"
    },
    {
     "text": "Octave Kernel",
     "url": "https://github.com/Calysto/octave_kernel"
    },
    {
     "text": "MetaKernel Magics",
     "url": "https://metakernel.readthedocs.io/en/latest/source/README.html"
    }
   ],
   "mimetype": "text/x-octave",
   "name": "octave",
   "version": "5.2.0"
  }
 },
 "nbformat": 4,
 "nbformat_minor": 4
}
